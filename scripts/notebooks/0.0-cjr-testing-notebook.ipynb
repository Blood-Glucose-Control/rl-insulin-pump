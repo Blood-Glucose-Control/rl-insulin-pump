{
 "cells": [
  {
   "cell_type": "markdown",
   "id": "2952ab6a",
   "metadata": {},
   "source": [
    "# Testing Notebook\n",
    "\n",
    "This notebook is to verify the functionality of notebooks, and other notebook related features in our repository."
   ]
  },
  {
   "cell_type": "code",
   "execution_count": 1,
   "id": "021ef91f",
   "metadata": {},
   "outputs": [
    {
     "name": "stdout",
     "output_type": "stream",
     "text": [
      "['/u6/cjrisi/rl-insulin-pump/simglucose']\n"
     ]
    }
   ],
   "source": [
    "import sys\n",
    "\n",
    "print([p for p in sys.path if \"simglucose\" in p])"
   ]
  },
  {
   "cell_type": "code",
   "execution_count": 2,
   "id": "597e91ad",
   "metadata": {},
   "outputs": [
    {
     "name": "stdout",
     "output_type": "stream",
     "text": [
      "simglucose is installed at: /u6/cjrisi/rl-insulin-pump/simglucose/simglucose/__init__.py\n",
      "Path: ['/u6/cjrisi/rl-insulin-pump/simglucose/simglucose']\n"
     ]
    }
   ],
   "source": [
    "import importlib.util\n",
    "import sys\n",
    "\n",
    "spec = importlib.util.find_spec(\"simglucose\")\n",
    "if spec is not None:\n",
    "    print(f\"simglucose is installed at: {spec.origin}\")\n",
    "    print(f\"Path: {spec.submodule_search_locations}\")\n",
    "else:\n",
    "    print(\"simglucose is NOT installed\")"
   ]
  },
  {
   "cell_type": "code",
   "execution_count": 2,
   "id": "641d9847",
   "metadata": {},
   "outputs": [],
   "source": [
    "import pandas as pd\n",
    "\n",
    "for patient_id in [\"patient1\", \"patient2\"]:\n",
    "    # Create sample DataFrame with realistic glucose data\n",
    "    data = {\n",
    "        \"Time\": [\n",
    "            \"2017-12-31 06:00:00\",\n",
    "            \"2017-12-31 06:03:00\",\n",
    "            \"2017-12-31 06:06:00\",\n",
    "            \"2017-12-31 06:09:00\",\n",
    "        ],\n",
    "        \"BG\": [149.02, 149.02, 149.02, 149.02],\n",
    "        \"CGM\": [171.40, 171.00, 169.99, 169.42],\n",
    "        \"CHO\": [0.0, 0.0, 0.0, 0.0],\n",
    "        \"insulin\": [0.01393, 0.01393, 0.01393, 0.01393],\n",
    "        \"LBGI\": [0.0, 0.0, 0.0, 0.0],\n",
    "        \"HBGI\": [2.7553, 2.7553, 2.7553, 2.7553],\n",
    "        \"Risk\": [2.7553, 2.7553, 2.7553, 2.7553],\n",
    "    }\n",
    "\n",
    "    df = pd.DataFrame(data)"
   ]
  },
  {
   "cell_type": "code",
   "execution_count": 4,
   "id": "6989a40d",
   "metadata": {},
   "outputs": [
    {
     "data": {
      "text/plain": [
       "Time        object\n",
       "BG         float64\n",
       "CGM        float64\n",
       "CHO        float64\n",
       "insulin    float64\n",
       "LBGI       float64\n",
       "HBGI       float64\n",
       "Risk       float64\n",
       "dtype: object"
      ]
     },
     "execution_count": 4,
     "metadata": {},
     "output_type": "execute_result"
    }
   ],
   "source": [
    "df.dtypes"
   ]
  },
  {
   "cell_type": "code",
   "execution_count": 7,
   "id": "52358fa7",
   "metadata": {},
   "outputs": [
    {
     "data": {
      "text/plain": [
       "1.445791638515412"
      ]
     },
     "execution_count": 7,
     "metadata": {},
     "output_type": "execute_result"
    }
   ],
   "source": [
    "df2 = pd.read_csv(\n",
    "    \"/u6/cjrisi/rl-insulin-pump/results/simglucose_reports/example_data/adolescent#001.csv\"\n",
    ")\n",
    "df2.dtypes\n",
    "df2[\"LBGI\"].max()"
   ]
  }
 ],
 "metadata": {
  "kernelspec": {
   "display_name": "env",
   "language": "python",
   "name": "python3"
  },
  "language_info": {
   "codemirror_mode": {
    "name": "ipython",
    "version": 3
   },
   "file_extension": ".py",
   "mimetype": "text/x-python",
   "name": "python",
   "nbconvert_exporter": "python",
   "pygments_lexer": "ipython3",
   "version": "3.11.4"
  }
 },
 "nbformat": 4,
 "nbformat_minor": 5
}
