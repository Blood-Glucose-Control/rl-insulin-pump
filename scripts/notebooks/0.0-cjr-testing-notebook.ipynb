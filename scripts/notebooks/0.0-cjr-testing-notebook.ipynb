{
 "cells": [
  {
   "cell_type": "markdown",
   "id": "2952ab6a",
   "metadata": {},
   "source": [
    "# Testing Notebook\n",
    "\n",
    "This notebook is to verify the functionality of notebooks, and other notebook related features in our repository."
   ]
  },
  {
   "cell_type": "code",
   "execution_count": 1,
   "id": "021ef91f",
   "metadata": {},
   "outputs": [
    {
     "name": "stdout",
     "output_type": "stream",
     "text": [
      "['/u6/cjrisi/rl-insulin-pump/simglucose']\n"
     ]
    }
   ],
   "source": [
    "import sys\n",
    "\n",
    "print([p for p in sys.path if \"simglucose\" in p])"
   ]
  },
  {
   "cell_type": "code",
   "execution_count": 2,
   "id": "597e91ad",
   "metadata": {},
   "outputs": [
    {
     "name": "stdout",
     "output_type": "stream",
     "text": [
      "simglucose is installed at: /u6/cjrisi/rl-insulin-pump/simglucose/simglucose/__init__.py\n",
      "Path: ['/u6/cjrisi/rl-insulin-pump/simglucose/simglucose']\n"
     ]
    }
   ],
   "source": [
    "import importlib.util\n",
    "import sys\n",
    "\n",
    "spec = importlib.util.find_spec(\"simglucose\")\n",
    "if spec is not None:\n",
    "    print(f\"simglucose is installed at: {spec.origin}\")\n",
    "    print(f\"Path: {spec.submodule_search_locations}\")\n",
    "else:\n",
    "    print(\"simglucose is NOT installed\")"
   ]
  }
 ],
 "metadata": {
  "kernelspec": {
   "display_name": "env",
   "language": "python",
   "name": "python3"
  },
  "language_info": {
   "codemirror_mode": {
    "name": "ipython",
    "version": 3
   },
   "file_extension": ".py",
   "mimetype": "text/x-python",
   "name": "python",
   "nbconvert_exporter": "python",
   "pygments_lexer": "ipython3",
   "version": "3.11.4"
  }
 },
 "nbformat": 4,
 "nbformat_minor": 5
}
