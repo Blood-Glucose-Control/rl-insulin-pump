{
 "cells": [
  {
   "cell_type": "markdown",
   "id": "e9544ff4",
   "metadata": {},
   "source": [
    "# NPZ File Viewer"
   ]
  },
  {
   "cell_type": "code",
   "execution_count": 1,
   "id": "db1694ba",
   "metadata": {},
   "outputs": [
    {
     "name": "stdout",
     "output_type": "stream",
     "text": [
      "['timesteps', 'results', 'ep_lengths']\n",
      "timesteps:\n",
      "[ 5000 10000]\n",
      "results:\n",
      "[[97.517972 99.175452 98.590801 99.589002 99.812686]\n",
      " [99.211344 99.153253 98.179166 98.761677 98.400856]]\n",
      "ep_lengths:\n",
      "[[490 196 157 403 517]\n",
      " [505 500 124 597 595]]\n"
     ]
    }
   ],
   "source": [
    "import numpy as np\n",
    "\n",
    "data = np.load(\n",
    "    \"/u6/cjrisi/rl-insulin-pump/runs/watgpu-partition_test-configs_20250716_000036/logs/evaluations.npz\"\n",
    ")\n",
    "print(data.files)  # Lists all arrays stored in the file\n",
    "\n",
    "for key in data.files:\n",
    "    print(f\"{key}:\")\n",
    "    print(data[key])"
   ]
  }
 ],
 "metadata": {
  "kernelspec": {
   "display_name": "env",
   "language": "python",
   "name": "python3"
  },
  "language_info": {
   "codemirror_mode": {
    "name": "ipython",
    "version": 3
   },
   "file_extension": ".py",
   "mimetype": "text/x-python",
   "name": "python",
   "nbconvert_exporter": "python",
   "pygments_lexer": "ipython3",
   "version": "3.11.4"
  }
 },
 "nbformat": 4,
 "nbformat_minor": 5
}
