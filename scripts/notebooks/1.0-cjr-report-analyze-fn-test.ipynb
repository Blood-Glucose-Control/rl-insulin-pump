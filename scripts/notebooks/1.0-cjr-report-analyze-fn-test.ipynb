{
 "cells": [
  {
   "cell_type": "code",
   "execution_count": 6,
   "id": "021ef91f",
   "metadata": {},
   "outputs": [
    {
     "name": "stdout",
     "output_type": "stream",
     "text": [
      "[]\n"
     ]
    }
   ],
   "source": [
    "import sys\n",
    "print([p for p in sys.path if 'simglucose' in p])\n"
   ]
  },
  {
   "cell_type": "code",
   "execution_count": 7,
   "id": "597e91ad",
   "metadata": {},
   "outputs": [
    {
     "name": "stdout",
     "output_type": "stream",
     "text": [
      "simglucose is installed at: None\n",
      "Path: _NamespacePath(['/u6/cjrisi/rl-insulin-pump/simglucose'])\n"
     ]
    }
   ],
   "source": [
    "import importlib.util\n",
    "import sys\n",
    "\n",
    "spec = importlib.util.find_spec(\"simglucose\")\n",
    "if spec is not None:\n",
    "    print(f\"simglucose is installed at: {spec.origin}\")\n",
    "    print(f\"Path: {spec.submodule_search_locations}\")\n",
    "else:\n",
    "    print(\"simglucose is NOT installed\")"
   ]
  },
  {
   "cell_type": "code",
   "execution_count": 8,
   "id": "b4cdbd69",
   "metadata": {},
   "outputs": [
    {
     "ename": "ModuleNotFoundError",
     "evalue": "No module named 'simglucose.analysis'",
     "output_type": "error",
     "traceback": [
      "\u001b[31m---------------------------------------------------------------------------\u001b[39m",
      "\u001b[31mModuleNotFoundError\u001b[39m                       Traceback (most recent call last)",
      "\u001b[36mCell\u001b[39m\u001b[36m \u001b[39m\u001b[32mIn[8]\u001b[39m\u001b[32m, line 18\u001b[39m\n\u001b[32m     16\u001b[39m \u001b[38;5;28;01mimport\u001b[39;00m\u001b[38;5;250m \u001b[39m\u001b[34;01mlogging\u001b[39;00m\n\u001b[32m     17\u001b[39m \u001b[38;5;28;01mimport\u001b[39;00m\u001b[38;5;250m \u001b[39m\u001b[34;01mpandas\u001b[39;00m\u001b[38;5;250m \u001b[39m\u001b[38;5;28;01mas\u001b[39;00m\u001b[38;5;250m \u001b[39m\u001b[34;01mpd\u001b[39;00m\n\u001b[32m---> \u001b[39m\u001b[32m18\u001b[39m \u001b[38;5;28;01mfrom\u001b[39;00m\u001b[38;5;250m \u001b[39m\u001b[34;01msimglucose\u001b[39;00m\u001b[34;01m.\u001b[39;00m\u001b[34;01manalysis\u001b[39;00m\u001b[34;01m.\u001b[39;00m\u001b[34;01mreport\u001b[39;00m\u001b[38;5;250m \u001b[39m\u001b[38;5;28;01mimport\u001b[39;00m report\n\u001b[32m     20\u001b[39m \u001b[38;5;28;01mdef\u001b[39;00m\u001b[38;5;250m \u001b[39m\u001b[34manalyze\u001b[39m(files_path=\u001b[38;5;28;01mNone\u001b[39;00m, save_path=\u001b[38;5;28;01mNone\u001b[39;00m):\n\u001b[32m     21\u001b[39m \u001b[38;5;250m    \u001b[39m\u001b[33;03m\"\"\"\u001b[39;00m\n\u001b[32m     22\u001b[39m \u001b[33;03m    Analyze saved trajectories and generate a report.\u001b[39;00m\n\u001b[32m     23\u001b[39m \n\u001b[32m   (...)\u001b[39m\u001b[32m     37\u001b[39m \u001b[33;03m        FileNotFoundError: If no CSV files are found in the specified directory.\u001b[39;00m\n\u001b[32m     38\u001b[39m \u001b[33;03m    \"\"\"\u001b[39;00m\n",
      "\u001b[31mModuleNotFoundError\u001b[39m: No module named 'simglucose.analysis'"
     ]
    }
   ],
   "source": [
    "'''\n",
    "Reporting and Analysis Utilities\n",
    "\n",
    "This module provides tools for analyzing simulation results, generating reports,\n",
    "and visualizing data from insulin pump reinforcement learning experiments.\n",
    "\n",
    "Key functionality includes:\n",
    "- Analyzing saved patient trajectories\n",
    "- Generating performance reports and metrics\n",
    "- Creating visualizations for glucose control performance\n",
    "\n",
    "The module serves as a central location for all reporting and analysis tools\n",
    "used throughout the project, facilitating standardized evaluation of different\n",
    "control algorithms and patient outcomes.\n",
    "'''\n",
    "import logging\n",
    "import pandas as pd\n",
    "from simglucose.analysis.report import report\n",
    "\n",
    "def analyze(files_path=None, save_path=None):\n",
    "    \"\"\"\n",
    "    Analyze saved trajectories and generate a report.\n",
    "    \n",
    "    This function processes CSV files containing patient glucose data,\n",
    "    combines them, and generates a standardized report in PDF format.\n",
    "    The report includes key metrics and visualizations.\n",
    "    \n",
    "    Args:\n",
    "        files_path (str): Path to the directory containing saved trajectory files.\n",
    "        save_path (str, optional): Path to save the generated report. If None,\n",
    "            a timestamped report will be created in the reporting directory.\n",
    "    \n",
    "    Returns:\n",
    "        Path: The path to the generated report file.\n",
    "    \n",
    "    Raises:\n",
    "        FileNotFoundError: If no CSV files are found in the specified directory.\n",
    "    \"\"\"\n",
    "    logger = logging.getLogger(__name__)\n",
    "    logger.info(\"Analyzing saved trajectories...\")\n",
    "    from pathlib import Path\n",
    "\n",
    "    path = Path(__file__).parent\n",
    "    # Ensure files_path exists and contains CSV files\n",
    "    result_path = Path(files_path) if not isinstance(files_path, Path) else files_path\n",
    "    result_filenames = list(result_path.glob(\"*.csv\"))\n",
    "    \n",
    "    if not result_filenames:\n",
    "        raise FileNotFoundError(f\"No CSV files found in {result_path}\")\n",
    "    \n",
    "    patient_names = [f.stem for f in result_filenames]\n",
    "    df = pd.concat(\n",
    "        [pd.read_csv(str(f), index_col=0) for f in result_filenames],\n",
    "        keys=patient_names,\n",
    "    )\n",
    "    \n",
    "    # Handle save_path directory creation\n",
    "    if save_path is None:\n",
    "        datetimestamp = pd.Timestamp.now().strftime(\"%Y%m%d_%H%M%S\")\n",
    "        save_path = Path(results/simglucose_reports/\"report_{datetimestamp}\")\n",
    "        save_path.mkdir(parents=False, exist_ok=False)\n",
    "    else:\n",
    "        save_path = Path(save_path)\n",
    "        # Ensure the directory exists\n",
    "        save_path.parent.mkdir(parents=True, exist_ok=True)\n",
    "    \n",
    "    # Generate the report\n",
    "    report(df, save_path=str(save_path))\n",
    "    logger.info(f\"Report saved to {save_path}\")\n",
    "    \n",
    "    return save_path"
   ]
  }
 ],
 "metadata": {
  "kernelspec": {
   "display_name": "env",
   "language": "python",
   "name": "python3"
  },
  "language_info": {
   "codemirror_mode": {
    "name": "ipython",
    "version": 3
   },
   "file_extension": ".py",
   "mimetype": "text/x-python",
   "name": "python",
   "nbconvert_exporter": "python",
   "pygments_lexer": "ipython3",
   "version": "3.11.4"
  }
 },
 "nbformat": 4,
 "nbformat_minor": 5
}
